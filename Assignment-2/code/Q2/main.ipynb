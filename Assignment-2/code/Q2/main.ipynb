{
 "cells": [
  {
   "cell_type": "code",
   "execution_count": null,
   "metadata": {},
   "outputs": [],
   "source": [
    "import h5py\n",
    "import numpy as np\n",
    "from utils import *\n",
    "import matplotlib.pyplot as plt\n",
    "\n",
    "brainImg = h5py.File('../../data/assignmentSegmentBrainGmmEmMrf.mat')\n",
    "\n",
    "image = np.array(brainImg[\"imageData\"])\n",
    "imageMask = np.array(brainImg[\"imageMask\"]).astype(bool)\n",
    "k = 3"
   ]
  },
  {
   "cell_type": "markdown",
   "metadata": {},
   "source": [
    "# Initialize parameters"
   ]
  },
  {
   "cell_type": "code",
   "execution_count": null,
   "metadata": {},
   "outputs": [],
   "source": [
    "X_map_init,means_init,variances_init = initializeParams(image,imageMask)"
   ]
  },
  {
   "cell_type": "markdown",
   "metadata": {},
   "source": [
    "# Beta = 0"
   ]
  },
  {
   "cell_type": "code",
   "execution_count": null,
   "metadata": {},
   "outputs": [],
   "source": [
    "X_map, means, variances, memberships = getOptimalParams(image,imageMask,X_map_init,means_init,variances_init,0,max_iters=100)"
   ]
  },
  {
   "cell_type": "code",
   "execution_count": null,
   "metadata": {},
   "outputs": [],
   "source": [
    "plt.figure()\n",
    "plt.imshow(image,cmap='gray', vmin=0, vmax=1)\n",
    "plt.title('Noisy image')\n",
    "plt.figure()\n",
    "plt.imshow(X_map)\n",
    "plt.title('Estimate of label image at beta = 0')\n",
    "plt.figure()\n",
    "_,axis = plt.subplots(1,3)\n",
    "axis[0].imshow(memberships[:,:,0],cmap='gray', vmin=0, vmax=1)\n",
    "axis[0].set_title('Class 0')\n",
    "axis[1].imshow(memberships[:,:,1],cmap='gray', vmin=0, vmax=1)\n",
    "axis[1].set_title('Class 1')\n",
    "axis[2].imshow(memberships[:,:,2],cmap='gray', vmin=0, vmax=1)\n",
    "axis[2].set_title('Class 2')"
   ]
  },
  {
   "cell_type": "markdown",
   "metadata": {},
   "source": [
    "# Tuning Beta"
   ]
  },
  {
   "cell_type": "code",
   "execution_count": null,
   "metadata": {},
   "outputs": [],
   "source": [
    "plt.figure()\n",
    "plt.imshow(image,cmap='gray', vmin=0, vmax=1)\n",
    "plt.title('Noisy image')\n",
    "plt.show()\n",
    "\n",
    "fig_shape = (5,2)\n",
    "betas = np.linspace(0.1,1,10)\n",
    "\n",
    "\n",
    "for i,beta in enumerate(betas):\n",
    "    X_map, means, variances, memberships = getOptimalParams(image,imageMask,X_map_init,means_init,variances_init,beta,max_iters=70, verbose=False)\n",
    "    plt.figure()\n",
    "    plt.imshow(X_map)\n",
    "    plt.title(f'Estimate of label at beta = {beta}')\n",
    "    plt.show()\n"
   ]
  },
  {
   "cell_type": "markdown",
   "metadata": {},
   "source": [
    "# Optimal Beta"
   ]
  },
  {
   "cell_type": "code",
   "execution_count": null,
   "metadata": {},
   "outputs": [],
   "source": [
    "beta = 0.1"
   ]
  },
  {
   "cell_type": "code",
   "execution_count": null,
   "metadata": {},
   "outputs": [],
   "source": [
    "X_map, means, variances, memberships = getOptimalParams(image,imageMask,X_map_init,means_init,variances_init,beta,max_iters=100)"
   ]
  },
  {
   "cell_type": "code",
   "execution_count": null,
   "metadata": {},
   "outputs": [],
   "source": [
    "plt.figure()\n",
    "plt.imshow(image,cmap='gray', vmin=0, vmax=1)\n",
    "plt.title('Noisy image')\n",
    "plt.figure()\n",
    "plt.imshow(X_map)\n",
    "plt.title(f'Estimate of label image at beta = {beta}')\n",
    "plt.figure()\n",
    "_,axis = plt.subplots(1,3)\n",
    "axis[0].imshow(memberships[:,:,0],cmap='gray', vmin=0, vmax=1)\n",
    "axis[0].set_title('Class 0')\n",
    "axis[1].imshow(memberships[:,:,1],cmap='gray', vmin=0, vmax=1)\n",
    "axis[1].set_title('Class 1')\n",
    "axis[2].imshow(memberships[:,:,2],cmap='gray', vmin=0, vmax=1)\n",
    "axis[2].set_title('Class 2')"
   ]
  },
  {
   "cell_type": "code",
   "execution_count": null,
   "metadata": {},
   "outputs": [],
   "source": []
  }
 ],
 "metadata": {
  "interpreter": {
   "hash": "0a13a47ff7fc0f7d43f0145d710c4ad94712d74398bb1d7c29f4e8299a2ae598"
  },
  "kernelspec": {
   "display_name": "Python 3.8.9 ('.env': venv)",
   "language": "python",
   "name": "python3"
  },
  "language_info": {
   "codemirror_mode": {
    "name": "ipython",
    "version": 3
   },
   "file_extension": ".py",
   "mimetype": "text/x-python",
   "name": "python",
   "nbconvert_exporter": "python",
   "pygments_lexer": "ipython3",
   "version": "3.8.9"
  },
  "orig_nbformat": 4
 },
 "nbformat": 4,
 "nbformat_minor": 2
}
